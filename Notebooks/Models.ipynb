{
  "nbformat": 4,
  "nbformat_minor": 0,
  "metadata": {
    "colab": {
      "provenance": []
    },
    "kernelspec": {
      "name": "python3",
      "display_name": "Python 3"
    },
    "language_info": {
      "name": "python"
    }
  },
  "cells": [
    {
      "cell_type": "markdown",
      "source": [
        "# Importing Dataset and Libraries"
      ],
      "metadata": {
        "id": "1DhxhXf7Pvyj"
      }
    },
    {
      "cell_type": "code",
      "source": [
        "import math\n",
        "from sklearn.metrics import r2_score\n",
        "import pandas as pd\n",
        "import numpy as np\n",
        "from sklearn.model_selection import train_test_split\n",
        "from sklearn.linear_model import LogisticRegression\n",
        "from sklearn.linear_model import SGDClassifier\n",
        "from sklearn.naive_bayes import GaussianNB\n",
        "from sklearn import tree\n",
        "from sklearn.ensemble import RandomForestClassifier"
      ],
      "metadata": {
        "id": "ixF75NoTKutr"
      },
      "execution_count": null,
      "outputs": []
    },
    {
      "cell_type": "code",
      "source": [
        "allRound_df = pd.read_csv('diabetes_data.csv')\n",
        "\n",
        "allRound_df = allRound_df[['Age', 'Sex', 'Smoker', 'HeartDiseaseorAttack', 'PhysActivity', 'GenHlth', 'MentHlth', 'PhysHlth', 'Stroke', 'HighBP', 'Diabetes']]\n",
        "\n",
        "stroke_df = pd.read_csv('stroke_data.csv')\n",
        "\n",
        "diabetes_df = pd.read_csv('diabetes_data.csv')\n",
        "diabetes_df = diabetes_df[['Age', 'Sex', 'HighChol', 'CholCheck', 'BMI', 'Fruits', 'Veggies', 'HvyAlcoholConsump', 'Diabetes']]\n",
        "\n",
        "hypertension_df = pd.read_csv('hypertension_data.csv')"
      ],
      "metadata": {
        "id": "ZrT91-xyadxK"
      },
      "execution_count": null,
      "outputs": []
    },
    {
      "cell_type": "markdown",
      "source": [
        "# All-Round Prediction"
      ],
      "metadata": {
        "id": "Qv4aCVh5UWZd"
      }
    },
    {
      "cell_type": "code",
      "source": [
        "print(allRound_df.head())"
      ],
      "metadata": {
        "colab": {
          "base_uri": "https://localhost:8080/"
        },
        "id": "wh69Bo-tUasI",
        "outputId": "b2c80048-a3bb-4cf5-f4bc-bb690a094334"
      },
      "execution_count": null,
      "outputs": [
        {
          "output_type": "stream",
          "name": "stdout",
          "text": [
            "    Age  Sex  Smoker  HeartDiseaseorAttack  PhysActivity  GenHlth  MentHlth  \\\n",
            "0   4.0  1.0     0.0                   0.0           1.0      3.0       5.0   \n",
            "1  12.0  1.0     1.0                   0.0           0.0      3.0       0.0   \n",
            "2  13.0  1.0     0.0                   0.0           1.0      1.0       0.0   \n",
            "3  11.0  1.0     1.0                   0.0           1.0      3.0       0.0   \n",
            "4   8.0  0.0     1.0                   0.0           1.0      2.0       0.0   \n",
            "\n",
            "   PhysHlth  Stroke  HighBP  Diabetes  \n",
            "0      30.0     0.0     1.0       0.0  \n",
            "1       0.0     1.0     1.0       0.0  \n",
            "2      10.0     0.0     0.0       0.0  \n",
            "3       3.0     0.0     1.0       0.0  \n",
            "4       0.0     0.0     0.0       0.0  \n"
          ]
        }
      ]
    },
    {
      "cell_type": "code",
      "source": [
        "allRound_df.corr()[['Stroke', 'HighBP', 'Diabetes']]"
      ],
      "metadata": {
        "colab": {
          "base_uri": "https://localhost:8080/",
          "height": 394
        },
        "id": "bvyAw0VaIMQ4",
        "outputId": "9c8e4828-6aee-49ad-c890-06dde0d5cce1"
      },
      "execution_count": null,
      "outputs": [
        {
          "output_type": "execute_result",
          "data": {
            "text/plain": [
              "                        Stroke    HighBP  Diabetes\n",
              "Age                   0.123879  0.338132  0.278738\n",
              "Sex                   0.003822  0.040819  0.044413\n",
              "Smoker                0.064658  0.087438  0.085999\n",
              "HeartDiseaseorAttack  0.223394  0.210750  0.211523\n",
              "PhysActivity         -0.079985 -0.136102 -0.158666\n",
              "GenHlth               0.189447  0.320540  0.407612\n",
              "MentHlth              0.087303  0.064294  0.087029\n",
              "PhysHlth              0.164488  0.173922  0.213081\n",
              "Stroke                1.000000  0.129060  0.125427\n",
              "HighBP                0.129060  1.000000  0.381516\n",
              "Diabetes              0.125427  0.381516  1.000000"
            ],
            "text/html": [
              "\n",
              "  <div id=\"df-92bcf4bf-2d31-407c-9458-82056f222004\" class=\"colab-df-container\">\n",
              "    <div>\n",
              "<style scoped>\n",
              "    .dataframe tbody tr th:only-of-type {\n",
              "        vertical-align: middle;\n",
              "    }\n",
              "\n",
              "    .dataframe tbody tr th {\n",
              "        vertical-align: top;\n",
              "    }\n",
              "\n",
              "    .dataframe thead th {\n",
              "        text-align: right;\n",
              "    }\n",
              "</style>\n",
              "<table border=\"1\" class=\"dataframe\">\n",
              "  <thead>\n",
              "    <tr style=\"text-align: right;\">\n",
              "      <th></th>\n",
              "      <th>Stroke</th>\n",
              "      <th>HighBP</th>\n",
              "      <th>Diabetes</th>\n",
              "    </tr>\n",
              "  </thead>\n",
              "  <tbody>\n",
              "    <tr>\n",
              "      <th>Age</th>\n",
              "      <td>0.123879</td>\n",
              "      <td>0.338132</td>\n",
              "      <td>0.278738</td>\n",
              "    </tr>\n",
              "    <tr>\n",
              "      <th>Sex</th>\n",
              "      <td>0.003822</td>\n",
              "      <td>0.040819</td>\n",
              "      <td>0.044413</td>\n",
              "    </tr>\n",
              "    <tr>\n",
              "      <th>Smoker</th>\n",
              "      <td>0.064658</td>\n",
              "      <td>0.087438</td>\n",
              "      <td>0.085999</td>\n",
              "    </tr>\n",
              "    <tr>\n",
              "      <th>HeartDiseaseorAttack</th>\n",
              "      <td>0.223394</td>\n",
              "      <td>0.210750</td>\n",
              "      <td>0.211523</td>\n",
              "    </tr>\n",
              "    <tr>\n",
              "      <th>PhysActivity</th>\n",
              "      <td>-0.079985</td>\n",
              "      <td>-0.136102</td>\n",
              "      <td>-0.158666</td>\n",
              "    </tr>\n",
              "    <tr>\n",
              "      <th>GenHlth</th>\n",
              "      <td>0.189447</td>\n",
              "      <td>0.320540</td>\n",
              "      <td>0.407612</td>\n",
              "    </tr>\n",
              "    <tr>\n",
              "      <th>MentHlth</th>\n",
              "      <td>0.087303</td>\n",
              "      <td>0.064294</td>\n",
              "      <td>0.087029</td>\n",
              "    </tr>\n",
              "    <tr>\n",
              "      <th>PhysHlth</th>\n",
              "      <td>0.164488</td>\n",
              "      <td>0.173922</td>\n",
              "      <td>0.213081</td>\n",
              "    </tr>\n",
              "    <tr>\n",
              "      <th>Stroke</th>\n",
              "      <td>1.000000</td>\n",
              "      <td>0.129060</td>\n",
              "      <td>0.125427</td>\n",
              "    </tr>\n",
              "    <tr>\n",
              "      <th>HighBP</th>\n",
              "      <td>0.129060</td>\n",
              "      <td>1.000000</td>\n",
              "      <td>0.381516</td>\n",
              "    </tr>\n",
              "    <tr>\n",
              "      <th>Diabetes</th>\n",
              "      <td>0.125427</td>\n",
              "      <td>0.381516</td>\n",
              "      <td>1.000000</td>\n",
              "    </tr>\n",
              "  </tbody>\n",
              "</table>\n",
              "</div>\n",
              "    <div class=\"colab-df-buttons\">\n",
              "\n",
              "  <div class=\"colab-df-container\">\n",
              "    <button class=\"colab-df-convert\" onclick=\"convertToInteractive('df-92bcf4bf-2d31-407c-9458-82056f222004')\"\n",
              "            title=\"Convert this dataframe to an interactive table.\"\n",
              "            style=\"display:none;\">\n",
              "\n",
              "  <svg xmlns=\"http://www.w3.org/2000/svg\" height=\"24px\" viewBox=\"0 -960 960 960\">\n",
              "    <path d=\"M120-120v-720h720v720H120Zm60-500h600v-160H180v160Zm220 220h160v-160H400v160Zm0 220h160v-160H400v160ZM180-400h160v-160H180v160Zm440 0h160v-160H620v160ZM180-180h160v-160H180v160Zm440 0h160v-160H620v160Z\"/>\n",
              "  </svg>\n",
              "    </button>\n",
              "\n",
              "  <style>\n",
              "    .colab-df-container {\n",
              "      display:flex;\n",
              "      gap: 12px;\n",
              "    }\n",
              "\n",
              "    .colab-df-convert {\n",
              "      background-color: #E8F0FE;\n",
              "      border: none;\n",
              "      border-radius: 50%;\n",
              "      cursor: pointer;\n",
              "      display: none;\n",
              "      fill: #1967D2;\n",
              "      height: 32px;\n",
              "      padding: 0 0 0 0;\n",
              "      width: 32px;\n",
              "    }\n",
              "\n",
              "    .colab-df-convert:hover {\n",
              "      background-color: #E2EBFA;\n",
              "      box-shadow: 0px 1px 2px rgba(60, 64, 67, 0.3), 0px 1px 3px 1px rgba(60, 64, 67, 0.15);\n",
              "      fill: #174EA6;\n",
              "    }\n",
              "\n",
              "    .colab-df-buttons div {\n",
              "      margin-bottom: 4px;\n",
              "    }\n",
              "\n",
              "    [theme=dark] .colab-df-convert {\n",
              "      background-color: #3B4455;\n",
              "      fill: #D2E3FC;\n",
              "    }\n",
              "\n",
              "    [theme=dark] .colab-df-convert:hover {\n",
              "      background-color: #434B5C;\n",
              "      box-shadow: 0px 1px 3px 1px rgba(0, 0, 0, 0.15);\n",
              "      filter: drop-shadow(0px 1px 2px rgba(0, 0, 0, 0.3));\n",
              "      fill: #FFFFFF;\n",
              "    }\n",
              "  </style>\n",
              "\n",
              "    <script>\n",
              "      const buttonEl =\n",
              "        document.querySelector('#df-92bcf4bf-2d31-407c-9458-82056f222004 button.colab-df-convert');\n",
              "      buttonEl.style.display =\n",
              "        google.colab.kernel.accessAllowed ? 'block' : 'none';\n",
              "\n",
              "      async function convertToInteractive(key) {\n",
              "        const element = document.querySelector('#df-92bcf4bf-2d31-407c-9458-82056f222004');\n",
              "        const dataTable =\n",
              "          await google.colab.kernel.invokeFunction('convertToInteractive',\n",
              "                                                    [key], {});\n",
              "        if (!dataTable) return;\n",
              "\n",
              "        const docLinkHtml = 'Like what you see? Visit the ' +\n",
              "          '<a target=\"_blank\" href=https://colab.research.google.com/notebooks/data_table.ipynb>data table notebook</a>'\n",
              "          + ' to learn more about interactive tables.';\n",
              "        element.innerHTML = '';\n",
              "        dataTable['output_type'] = 'display_data';\n",
              "        await google.colab.output.renderOutput(dataTable, element);\n",
              "        const docLink = document.createElement('div');\n",
              "        docLink.innerHTML = docLinkHtml;\n",
              "        element.appendChild(docLink);\n",
              "      }\n",
              "    </script>\n",
              "  </div>\n",
              "\n",
              "\n",
              "<div id=\"df-76172381-3b47-4082-902f-1143d56f5624\">\n",
              "  <button class=\"colab-df-quickchart\" onclick=\"quickchart('df-76172381-3b47-4082-902f-1143d56f5624')\"\n",
              "            title=\"Suggest charts\"\n",
              "            style=\"display:none;\">\n",
              "\n",
              "<svg xmlns=\"http://www.w3.org/2000/svg\" height=\"24px\"viewBox=\"0 0 24 24\"\n",
              "     width=\"24px\">\n",
              "    <g>\n",
              "        <path d=\"M19 3H5c-1.1 0-2 .9-2 2v14c0 1.1.9 2 2 2h14c1.1 0 2-.9 2-2V5c0-1.1-.9-2-2-2zM9 17H7v-7h2v7zm4 0h-2V7h2v10zm4 0h-2v-4h2v4z\"/>\n",
              "    </g>\n",
              "</svg>\n",
              "  </button>\n",
              "\n",
              "<style>\n",
              "  .colab-df-quickchart {\n",
              "      --bg-color: #E8F0FE;\n",
              "      --fill-color: #1967D2;\n",
              "      --hover-bg-color: #E2EBFA;\n",
              "      --hover-fill-color: #174EA6;\n",
              "      --disabled-fill-color: #AAA;\n",
              "      --disabled-bg-color: #DDD;\n",
              "  }\n",
              "\n",
              "  [theme=dark] .colab-df-quickchart {\n",
              "      --bg-color: #3B4455;\n",
              "      --fill-color: #D2E3FC;\n",
              "      --hover-bg-color: #434B5C;\n",
              "      --hover-fill-color: #FFFFFF;\n",
              "      --disabled-bg-color: #3B4455;\n",
              "      --disabled-fill-color: #666;\n",
              "  }\n",
              "\n",
              "  .colab-df-quickchart {\n",
              "    background-color: var(--bg-color);\n",
              "    border: none;\n",
              "    border-radius: 50%;\n",
              "    cursor: pointer;\n",
              "    display: none;\n",
              "    fill: var(--fill-color);\n",
              "    height: 32px;\n",
              "    padding: 0;\n",
              "    width: 32px;\n",
              "  }\n",
              "\n",
              "  .colab-df-quickchart:hover {\n",
              "    background-color: var(--hover-bg-color);\n",
              "    box-shadow: 0 1px 2px rgba(60, 64, 67, 0.3), 0 1px 3px 1px rgba(60, 64, 67, 0.15);\n",
              "    fill: var(--button-hover-fill-color);\n",
              "  }\n",
              "\n",
              "  .colab-df-quickchart-complete:disabled,\n",
              "  .colab-df-quickchart-complete:disabled:hover {\n",
              "    background-color: var(--disabled-bg-color);\n",
              "    fill: var(--disabled-fill-color);\n",
              "    box-shadow: none;\n",
              "  }\n",
              "\n",
              "  .colab-df-spinner {\n",
              "    border: 2px solid var(--fill-color);\n",
              "    border-color: transparent;\n",
              "    border-bottom-color: var(--fill-color);\n",
              "    animation:\n",
              "      spin 1s steps(1) infinite;\n",
              "  }\n",
              "\n",
              "  @keyframes spin {\n",
              "    0% {\n",
              "      border-color: transparent;\n",
              "      border-bottom-color: var(--fill-color);\n",
              "      border-left-color: var(--fill-color);\n",
              "    }\n",
              "    20% {\n",
              "      border-color: transparent;\n",
              "      border-left-color: var(--fill-color);\n",
              "      border-top-color: var(--fill-color);\n",
              "    }\n",
              "    30% {\n",
              "      border-color: transparent;\n",
              "      border-left-color: var(--fill-color);\n",
              "      border-top-color: var(--fill-color);\n",
              "      border-right-color: var(--fill-color);\n",
              "    }\n",
              "    40% {\n",
              "      border-color: transparent;\n",
              "      border-right-color: var(--fill-color);\n",
              "      border-top-color: var(--fill-color);\n",
              "    }\n",
              "    60% {\n",
              "      border-color: transparent;\n",
              "      border-right-color: var(--fill-color);\n",
              "    }\n",
              "    80% {\n",
              "      border-color: transparent;\n",
              "      border-right-color: var(--fill-color);\n",
              "      border-bottom-color: var(--fill-color);\n",
              "    }\n",
              "    90% {\n",
              "      border-color: transparent;\n",
              "      border-bottom-color: var(--fill-color);\n",
              "    }\n",
              "  }\n",
              "</style>\n",
              "\n",
              "  <script>\n",
              "    async function quickchart(key) {\n",
              "      const quickchartButtonEl =\n",
              "        document.querySelector('#' + key + ' button');\n",
              "      quickchartButtonEl.disabled = true;  // To prevent multiple clicks.\n",
              "      quickchartButtonEl.classList.add('colab-df-spinner');\n",
              "      try {\n",
              "        const charts = await google.colab.kernel.invokeFunction(\n",
              "            'suggestCharts', [key], {});\n",
              "      } catch (error) {\n",
              "        console.error('Error during call to suggestCharts:', error);\n",
              "      }\n",
              "      quickchartButtonEl.classList.remove('colab-df-spinner');\n",
              "      quickchartButtonEl.classList.add('colab-df-quickchart-complete');\n",
              "    }\n",
              "    (() => {\n",
              "      let quickchartButtonEl =\n",
              "        document.querySelector('#df-76172381-3b47-4082-902f-1143d56f5624 button');\n",
              "      quickchartButtonEl.style.display =\n",
              "        google.colab.kernel.accessAllowed ? 'block' : 'none';\n",
              "    })();\n",
              "  </script>\n",
              "</div>\n",
              "    </div>\n",
              "  </div>\n"
            ],
            "application/vnd.google.colaboratory.intrinsic+json": {
              "type": "dataframe",
              "summary": "{\n  \"name\": \"allRound_df\",\n  \"rows\": 11,\n  \"fields\": [\n    {\n      \"column\": \"Stroke\",\n      \"properties\": {\n        \"dtype\": \"number\",\n        \"std\": 0.28348220018807563,\n        \"min\": -0.07998478230213542,\n        \"max\": 1.0,\n        \"num_unique_values\": 11,\n        \"samples\": [\n          0.1894468570859768,\n          0.12387934345416356,\n          0.12905987239828898\n        ],\n        \"semantic_type\": \"\",\n        \"description\": \"\"\n      }\n    },\n    {\n      \"column\": \"HighBP\",\n      \"properties\": {\n        \"dtype\": \"number\",\n        \"std\": 0.29435803713405867,\n        \"min\": -0.13610216921049118,\n        \"max\": 1.0,\n        \"num_unique_values\": 11,\n        \"samples\": [\n          0.32053980925469466,\n          0.3381319300605336,\n          1.0\n        ],\n        \"semantic_type\": \"\",\n        \"description\": \"\"\n      }\n    },\n    {\n      \"column\": \"Diabetes\",\n      \"properties\": {\n        \"dtype\": \"number\",\n        \"std\": 0.2976686685587396,\n        \"min\": -0.1586656048640516,\n        \"max\": 1.0,\n        \"num_unique_values\": 11,\n        \"samples\": [\n          0.4076115984949182,\n          0.2787380662818881,\n          0.3815155489073117\n        ],\n        \"semantic_type\": \"\",\n        \"description\": \"\"\n      }\n    }\n  ]\n}"
            }
          },
          "metadata": {},
          "execution_count": 60
        }
      ]
    },
    {
      "cell_type": "code",
      "source": [
        "null_counts = allRound_df.isnull().sum()\n",
        "print(\"\\nNull counts in each column:\")\n",
        "print(null_counts)\n",
        "\n",
        "allRound_df = allRound_df.dropna()"
      ],
      "metadata": {
        "colab": {
          "base_uri": "https://localhost:8080/"
        },
        "id": "yQ5ZxNeLIT9s",
        "outputId": "18cee717-0d88-4640-d1e0-70a4750fa5c2"
      },
      "execution_count": null,
      "outputs": [
        {
          "output_type": "stream",
          "name": "stdout",
          "text": [
            "\n",
            "Null counts in each column:\n",
            "Age                     0\n",
            "Sex                     0\n",
            "Smoker                  0\n",
            "HeartDiseaseorAttack    0\n",
            "PhysActivity            0\n",
            "GenHlth                 0\n",
            "MentHlth                0\n",
            "PhysHlth                0\n",
            "Stroke                  0\n",
            "HighBP                  0\n",
            "Diabetes                0\n",
            "dtype: int64\n"
          ]
        }
      ]
    },
    {
      "cell_type": "markdown",
      "source": [
        "**Min-max Normalization:**"
      ],
      "metadata": {
        "id": "3eSfY5_qfn3X"
      }
    },
    {
      "cell_type": "code",
      "source": [
        "allRound_df = (allRound_df - allRound_df.min()) / (allRound_df.max() - allRound_df.min())"
      ],
      "metadata": {
        "id": "aXjtoopAIcD_"
      },
      "execution_count": null,
      "outputs": []
    },
    {
      "cell_type": "markdown",
      "source": [
        "**Train-test split:**"
      ],
      "metadata": {
        "id": "dYW7Jyjyfr8u"
      }
    },
    {
      "cell_type": "code",
      "source": [
        "common_X_train, common_X_test, common_y_train, common_y_test = train_test_split(allRound_df.drop(['Stroke', 'Diabetes', 'HighBP'], axis = 1), allRound_df[['Diabetes', 'Stroke', 'HighBP']], test_size=0.2, random_state=1)"
      ],
      "metadata": {
        "id": "K9cjvCGTbE93"
      },
      "execution_count": null,
      "outputs": []
    },
    {
      "cell_type": "markdown",
      "source": [
        "# Model Selection based on Accuracies:"
      ],
      "metadata": {
        "id": "U7f0w1U7FQdI"
      }
    },
    {
      "cell_type": "code",
      "source": [
        "commonDiabetesCLF1 = LogisticRegression(random_state=0).fit(common_X_train, common_y_train['Diabetes'])\n",
        "print(\"Logistic Regression Prediction Score: \", commonDiabetesCLF1.score(common_X_test, common_y_test['Diabetes']))\n",
        "\n",
        "commonDiabetesCLF2 = SGDClassifier(loss=\"hinge\", penalty=\"l2\", max_iter=5).fit(common_X_train, common_y_train['Diabetes'])\n",
        "print(\"SGDClassifier Prediction Score: \", commonDiabetesCLF2.score(common_X_test, common_y_test['Diabetes']))\n",
        "\n",
        "commonDiabetesCLF3 = GaussianNB().fit(common_X_train, common_y_train['Diabetes'])\n",
        "print(\"Gaussian Naive Bayes Prediction Score: \", commonDiabetesCLF3.score(common_X_test, common_y_test['Diabetes']))\n",
        "\n",
        "commonDiabetesCLF4 = tree.DecisionTreeClassifier().fit(common_X_train, common_y_train['Diabetes'])\n",
        "print(\"Decision Tree Classifier Prediction Score: \", commonDiabetesCLF4.score(common_X_test, common_y_test['Diabetes']))\n",
        "\n",
        "commonDiabetesCLF5 = RandomForestClassifier(n_estimators=10).fit(common_X_train, common_y_train['Diabetes'])\n",
        "print(\"Random Forest Classifier Prediction Score: \", commonDiabetesCLF5.score(common_X_test, common_y_test['Diabetes']))"
      ],
      "metadata": {
        "colab": {
          "base_uri": "https://localhost:8080/"
        },
        "id": "EirJinDAFVKn",
        "outputId": "5a31d5b4-6218-4578-e2bd-97dd2f724dae"
      },
      "execution_count": null,
      "outputs": [
        {
          "output_type": "stream",
          "name": "stdout",
          "text": [
            "Logistic Regression Prediction Score:  0.7115779050852252\n",
            "SGDClassifier Prediction Score:  0.7152556757903671\n",
            "Gaussian Naive Bayes Prediction Score:  0.6648277813140958\n"
          ]
        },
        {
          "output_type": "stream",
          "name": "stderr",
          "text": [
            "/usr/local/lib/python3.10/dist-packages/sklearn/linear_model/_stochastic_gradient.py:702: ConvergenceWarning: Maximum number of iteration reached before convergence. Consider increasing max_iter to improve the fit.\n",
            "  warnings.warn(\n"
          ]
        },
        {
          "output_type": "stream",
          "name": "stdout",
          "text": [
            "Decision Tree Classifier Prediction Score:  0.6762147252280926\n",
            "Random Forest Classifier Prediction Score:  0.6897941862932315\n"
          ]
        }
      ]
    },
    {
      "cell_type": "markdown",
      "source": [
        "**As observed above, Logistic Regression shows the best accuracy score compared to rest of the classifier. Thus, we use Logistic Regression as the final classifier for all of our classification tasks ahead.**"
      ],
      "metadata": {
        "id": "NZJISY82GUDj"
      }
    },
    {
      "cell_type": "markdown",
      "source": [
        "**Final Classification Models:**"
      ],
      "metadata": {
        "id": "jF_UmxOAim4D"
      }
    },
    {
      "cell_type": "code",
      "source": [
        "commonDiabetesCLF = LogisticRegression(random_state=0).fit(common_X_train, common_y_train['Diabetes'])\n",
        "commonStrokeCLF = LogisticRegression(random_state=0).fit(common_X_train, common_y_train['Stroke'])\n",
        "commonHighBPCLF = LogisticRegression(random_state=0).fit(common_X_train, common_y_train['HighBP'])"
      ],
      "metadata": {
        "id": "UgudjGwrIiVY"
      },
      "execution_count": null,
      "outputs": []
    },
    {
      "cell_type": "code",
      "source": [
        "print(\"All-Round Diabetes Prediction Score: \", commonDiabetesCLF.score(common_X_test, common_y_test['Diabetes']))\n",
        "print(\"All-Round Stroke Prediction Score: \", commonStrokeCLF.score(common_X_test, common_y_test['Stroke']))\n",
        "print(\"All-Round Hypertension Prediction Score: \", commonHighBPCLF.score(common_X_test, common_y_test['HighBP']))"
      ],
      "metadata": {
        "colab": {
          "base_uri": "https://localhost:8080/"
        },
        "id": "mPKoJxyvBrNr",
        "outputId": "c857ad27-e708-4716-961a-5fb1944db81b"
      },
      "execution_count": null,
      "outputs": [
        {
          "output_type": "stream",
          "name": "stdout",
          "text": [
            "All-Round Diabetes Prediction Score:  0.7115779050852252\n",
            "All-Round Stroke Prediction Score:  0.9383266143291604\n",
            "All-Round Hypertension Prediction Score:  0.704575995473513\n"
          ]
        }
      ]
    },
    {
      "cell_type": "markdown",
      "source": [
        "# Stroke Prediction"
      ],
      "metadata": {
        "id": "M_IBWMC4QCaQ"
      }
    },
    {
      "cell_type": "code",
      "source": [
        "print(stroke_df.head())"
      ],
      "metadata": {
        "colab": {
          "base_uri": "https://localhost:8080/"
        },
        "id": "CMEkd33pMnY2",
        "outputId": "706c5367-ea77-4f81-938a-8ce2948e64a8"
      },
      "execution_count": null,
      "outputs": [
        {
          "output_type": "stream",
          "name": "stdout",
          "text": [
            "   sex   age  hypertension  heart_disease  ever_married  work_type  \\\n",
            "0  1.0  63.0             0              1             1          4   \n",
            "1  1.0  42.0             0              1             1          4   \n",
            "2  0.0  61.0             0              0             1          4   \n",
            "3  1.0  41.0             1              0             1          3   \n",
            "4  1.0  85.0             0              0             1          4   \n",
            "\n",
            "   Residence_type  avg_glucose_level   bmi  smoking_status  stroke  \n",
            "0               1             228.69  36.6               1       1  \n",
            "1               0             105.92  32.5               0       1  \n",
            "2               1             171.23  34.4               1       1  \n",
            "3               0             174.12  24.0               0       1  \n",
            "4               1             186.21  29.0               1       1  \n"
          ]
        }
      ]
    },
    {
      "cell_type": "code",
      "source": [
        "stroke_df.corr()['stroke']"
      ],
      "metadata": {
        "colab": {
          "base_uri": "https://localhost:8080/"
        },
        "id": "jvZlsK5ROyMt",
        "outputId": "bbe055f9-6fc7-4f02-b819-20f1768a8784"
      },
      "execution_count": null,
      "outputs": [
        {
          "output_type": "execute_result",
          "data": {
            "text/plain": [
              "sex                 -0.111036\n",
              "age                  0.058534\n",
              "hypertension         0.257182\n",
              "heart_disease        0.223930\n",
              "ever_married         0.181656\n",
              "work_type            0.026494\n",
              "Residence_type       0.011682\n",
              "avg_glucose_level    0.265452\n",
              "bmi                  0.018326\n",
              "smoking_status       0.068368\n",
              "stroke               1.000000\n",
              "Name: stroke, dtype: float64"
            ]
          },
          "metadata": {},
          "execution_count": 68
        }
      ]
    },
    {
      "cell_type": "code",
      "source": [
        "null_counts = stroke_df.isnull().sum()\n",
        "print(\"\\nNull counts in each column:\")\n",
        "print(null_counts)\n",
        "\n",
        "stroke_df = stroke_df.dropna()"
      ],
      "metadata": {
        "colab": {
          "base_uri": "https://localhost:8080/"
        },
        "id": "IxsXw4FsSqbR",
        "outputId": "627d44ed-b4bb-4422-8442-9bad33da1d52"
      },
      "execution_count": null,
      "outputs": [
        {
          "output_type": "stream",
          "name": "stdout",
          "text": [
            "\n",
            "Null counts in each column:\n",
            "sex                  3\n",
            "age                  0\n",
            "hypertension         0\n",
            "heart_disease        0\n",
            "ever_married         0\n",
            "work_type            0\n",
            "Residence_type       0\n",
            "avg_glucose_level    0\n",
            "bmi                  0\n",
            "smoking_status       0\n",
            "stroke               0\n",
            "dtype: int64\n"
          ]
        }
      ]
    },
    {
      "cell_type": "markdown",
      "source": [
        "**Min-max Normalization:**"
      ],
      "metadata": {
        "id": "ffoH4TBCf_BH"
      }
    },
    {
      "cell_type": "code",
      "source": [
        "stroke_df = (stroke_df - stroke_df.min()) / (stroke_df.max() - stroke_df.min())"
      ],
      "metadata": {
        "id": "BoTJUnUfT3ee"
      },
      "execution_count": null,
      "outputs": []
    },
    {
      "cell_type": "markdown",
      "source": [
        "**Train-test split:**"
      ],
      "metadata": {
        "id": "uWRxFLrhgBVr"
      }
    },
    {
      "cell_type": "code",
      "source": [
        "stroke_X_train, stroke_X_test, stroke_y_train, stroke_y_test = train_test_split(stroke_df.drop(['stroke'], axis = 1), stroke_df['stroke'], test_size=0.3, random_state=42)"
      ],
      "metadata": {
        "id": "-5fv-ADqgDQP"
      },
      "execution_count": null,
      "outputs": []
    },
    {
      "cell_type": "markdown",
      "source": [
        "**Classification Model:**"
      ],
      "metadata": {
        "id": "oqUs41yUiq6d"
      }
    },
    {
      "cell_type": "code",
      "source": [
        "strokeCLF = LogisticRegression(random_state=0).fit(stroke_X_train, stroke_y_train)\n",
        "\n",
        "print(\"Stroke Prediction Score: \", strokeCLF.score(stroke_X_test, stroke_y_test))"
      ],
      "metadata": {
        "colab": {
          "base_uri": "https://localhost:8080/"
        },
        "id": "Qwwvit4wQNtc",
        "outputId": "edef9a50-d077-4ab5-df32-fb8feb807452"
      },
      "execution_count": null,
      "outputs": [
        {
          "output_type": "stream",
          "name": "stdout",
          "text": [
            "Stroke Prediction Score:  0.6821478041228713\n"
          ]
        }
      ]
    },
    {
      "cell_type": "markdown",
      "source": [
        "# Diabetes Prediction"
      ],
      "metadata": {
        "id": "zXEsuwxYQGCI"
      }
    },
    {
      "cell_type": "code",
      "source": [
        "print(diabetes_df.head())"
      ],
      "metadata": {
        "colab": {
          "base_uri": "https://localhost:8080/"
        },
        "id": "tZxpVsviOc7U",
        "outputId": "7fe08667-00d7-464b-d350-8f1ca1bdc55a"
      },
      "execution_count": null,
      "outputs": [
        {
          "output_type": "stream",
          "name": "stdout",
          "text": [
            "    Age  Sex  HighChol  CholCheck   BMI  Fruits  Veggies  HvyAlcoholConsump  \\\n",
            "0   4.0  1.0       0.0        1.0  26.0     0.0      1.0                0.0   \n",
            "1  12.0  1.0       1.0        1.0  26.0     1.0      0.0                0.0   \n",
            "2  13.0  1.0       0.0        1.0  26.0     1.0      1.0                0.0   \n",
            "3  11.0  1.0       1.0        1.0  28.0     1.0      1.0                0.0   \n",
            "4   8.0  0.0       0.0        1.0  29.0     1.0      1.0                0.0   \n",
            "\n",
            "   Diabetes  \n",
            "0       0.0  \n",
            "1       0.0  \n",
            "2       0.0  \n",
            "3       0.0  \n",
            "4       0.0  \n"
          ]
        }
      ]
    },
    {
      "cell_type": "code",
      "source": [
        "diabetes_df.corr()['Diabetes']"
      ],
      "metadata": {
        "colab": {
          "base_uri": "https://localhost:8080/"
        },
        "id": "DxSL5jnCPTGx",
        "outputId": "2cee2ada-6c85-41b7-c713-90a3a62b9762"
      },
      "execution_count": null,
      "outputs": [
        {
          "output_type": "execute_result",
          "data": {
            "text/plain": [
              "Age                  0.278738\n",
              "Sex                  0.044413\n",
              "HighChol             0.289213\n",
              "CholCheck            0.115382\n",
              "BMI                  0.293373\n",
              "Fruits              -0.054077\n",
              "Veggies             -0.079293\n",
              "HvyAlcoholConsump   -0.094853\n",
              "Diabetes             1.000000\n",
              "Name: Diabetes, dtype: float64"
            ]
          },
          "metadata": {},
          "execution_count": 74
        }
      ]
    },
    {
      "cell_type": "code",
      "source": [
        "null_counts = diabetes_df.isnull().sum()\n",
        "print(\"\\nNull counts in each column:\")\n",
        "print(null_counts)\n",
        "\n",
        "diabetes_df = diabetes_df.dropna()"
      ],
      "metadata": {
        "colab": {
          "base_uri": "https://localhost:8080/"
        },
        "id": "LfxPsndgTEIg",
        "outputId": "33ebad12-f37c-4fee-ea8e-92347a286d5a"
      },
      "execution_count": null,
      "outputs": [
        {
          "output_type": "stream",
          "name": "stdout",
          "text": [
            "\n",
            "Null counts in each column:\n",
            "Age                  0\n",
            "Sex                  0\n",
            "HighChol             0\n",
            "CholCheck            0\n",
            "BMI                  0\n",
            "Fruits               0\n",
            "Veggies              0\n",
            "HvyAlcoholConsump    0\n",
            "Diabetes             0\n",
            "dtype: int64\n"
          ]
        }
      ]
    },
    {
      "cell_type": "markdown",
      "source": [
        "**Min-max Normalization:**"
      ],
      "metadata": {
        "id": "y1HnBLR9gtrt"
      }
    },
    {
      "cell_type": "code",
      "source": [
        "diabetes_df = (diabetes_df - diabetes_df.min()) / (diabetes_df.max() - diabetes_df.min())"
      ],
      "metadata": {
        "id": "hWLP0YIPUE4k"
      },
      "execution_count": null,
      "outputs": []
    },
    {
      "cell_type": "markdown",
      "source": [
        "**Train-test split:**"
      ],
      "metadata": {
        "id": "xWfSLArGgyEL"
      }
    },
    {
      "cell_type": "code",
      "source": [
        "diabetes_X_train, diabetes_X_test, diabetes_y_train, diabetes_y_test = train_test_split(diabetes_df.drop(['Diabetes'], axis = 1), diabetes_df['Diabetes'], test_size=0.3, random_state=42)"
      ],
      "metadata": {
        "id": "pXcnjZHmg3dO"
      },
      "execution_count": null,
      "outputs": []
    },
    {
      "cell_type": "markdown",
      "source": [
        "**Classification Model:**"
      ],
      "metadata": {
        "id": "tPv4qkwrisuK"
      }
    },
    {
      "cell_type": "code",
      "source": [
        "diabetesCLF = LogisticRegression(random_state=0).fit(diabetes_X_train, diabetes_y_train)\n",
        "\n",
        "print(\"Diabetes Prediction Score: \", diabetesCLF.score(diabetes_X_test, diabetes_y_test))"
      ],
      "metadata": {
        "colab": {
          "base_uri": "https://localhost:8080/"
        },
        "id": "G8e8LbZRUQZY",
        "outputId": "61524996-5ebf-433c-e698-46912d61704d"
      },
      "execution_count": null,
      "outputs": [
        {
          "output_type": "stream",
          "name": "stdout",
          "text": [
            "Diabetes Prediction Score:  0.7032723500565824\n"
          ]
        }
      ]
    },
    {
      "cell_type": "markdown",
      "source": [
        "# Hypertension Prediction"
      ],
      "metadata": {
        "id": "HMqpwQVzQIkQ"
      }
    },
    {
      "cell_type": "code",
      "source": [
        "print(hypertension_df.head())"
      ],
      "metadata": {
        "colab": {
          "base_uri": "https://localhost:8080/"
        },
        "id": "7CxdJskeObnR",
        "outputId": "fd2a2cac-4b6e-42e1-f6eb-b3a2eb82a628"
      },
      "execution_count": null,
      "outputs": [
        {
          "output_type": "stream",
          "name": "stdout",
          "text": [
            "    age  sex  cp  trestbps  chol  fbs  restecg  thalach  exang  oldpeak  \\\n",
            "0  57.0  1.0   3       145   233    1        0      150      0      2.3   \n",
            "1  64.0  0.0   2       130   250    0        1      187      0      3.5   \n",
            "2  52.0  1.0   1       130   204    0        0      172      0      1.4   \n",
            "3  56.0  0.0   1       120   236    0        1      178      0      0.8   \n",
            "4  66.0  0.0   0       120   354    0        1      163      1      0.6   \n",
            "\n",
            "   slope  ca  thal  target  \n",
            "0      0   0     1       1  \n",
            "1      0   0     2       1  \n",
            "2      2   0     2       1  \n",
            "3      2   0     2       1  \n",
            "4      2   0     2       1  \n"
          ]
        }
      ]
    },
    {
      "cell_type": "code",
      "source": [
        "hypertension_df.corr()['target']"
      ],
      "metadata": {
        "colab": {
          "base_uri": "https://localhost:8080/"
        },
        "id": "1tEHf6miPXXw",
        "outputId": "298444ef-2bd7-430c-eccc-73cbb4fc57be"
      },
      "execution_count": null,
      "outputs": [
        {
          "output_type": "execute_result",
          "data": {
            "text/plain": [
              "age        -2.354715e-02\n",
              "sex         4.951044e-16\n",
              "cp          4.338210e-01\n",
              "trestbps   -1.485082e-01\n",
              "chol       -8.211748e-02\n",
              "fbs        -3.358049e-02\n",
              "restecg     1.360681e-01\n",
              "thalach     4.190405e-01\n",
              "exang      -4.381167e-01\n",
              "oldpeak    -4.381349e-01\n",
              "slope       3.498362e-01\n",
              "ca         -4.059577e-01\n",
              "thal       -3.579344e-01\n",
              "target      1.000000e+00\n",
              "Name: target, dtype: float64"
            ]
          },
          "metadata": {},
          "execution_count": 80
        }
      ]
    },
    {
      "cell_type": "code",
      "source": [
        "null_counts = hypertension_df.isnull().sum()\n",
        "print(\"\\nNull counts in each column:\")\n",
        "print(null_counts)\n",
        "\n",
        "hypertension_df = hypertension_df.dropna()"
      ],
      "metadata": {
        "colab": {
          "base_uri": "https://localhost:8080/"
        },
        "id": "OSQUP-gMTH95",
        "outputId": "11ffbd1f-2e19-4e7a-dc51-1a1d6b66e149"
      },
      "execution_count": null,
      "outputs": [
        {
          "output_type": "stream",
          "name": "stdout",
          "text": [
            "\n",
            "Null counts in each column:\n",
            "age          0\n",
            "sex         25\n",
            "cp           0\n",
            "trestbps     0\n",
            "chol         0\n",
            "fbs          0\n",
            "restecg      0\n",
            "thalach      0\n",
            "exang        0\n",
            "oldpeak      0\n",
            "slope        0\n",
            "ca           0\n",
            "thal         0\n",
            "target       0\n",
            "dtype: int64\n"
          ]
        }
      ]
    },
    {
      "cell_type": "markdown",
      "source": [
        "**Min-max Normalization:**"
      ],
      "metadata": {
        "id": "WO1NCAWQh_fl"
      }
    },
    {
      "cell_type": "code",
      "source": [
        "hypertension_df = (hypertension_df - hypertension_df.min()) / (hypertension_df.max() - hypertension_df.min())"
      ],
      "metadata": {
        "id": "K5IXzQ4PUJmt"
      },
      "execution_count": null,
      "outputs": []
    },
    {
      "cell_type": "markdown",
      "source": [
        "**Train-test split:**"
      ],
      "metadata": {
        "id": "wBFdV8tjiCYx"
      }
    },
    {
      "cell_type": "code",
      "source": [
        "hypertension_X_train, hypertension_X_test, hypertension_y_train, hypertension_y_test = train_test_split(hypertension_df.drop(['target'], axis = 1), hypertension_df['target'], test_size=0.3, random_state=42)"
      ],
      "metadata": {
        "id": "EwaMHiQmiGKJ"
      },
      "execution_count": null,
      "outputs": []
    },
    {
      "cell_type": "markdown",
      "source": [
        "**Classification Model:**"
      ],
      "metadata": {
        "id": "riR4g7gCivAW"
      }
    },
    {
      "cell_type": "code",
      "source": [
        "clf = LogisticRegression(random_state=0).fit(hypertension_X_train, hypertension_y_train)\n",
        "\n",
        "print(\"Hypertension Prediction Score: \", clf.score(hypertension_X_test, hypertension_y_test))"
      ],
      "metadata": {
        "colab": {
          "base_uri": "https://localhost:8080/"
        },
        "id": "5PZ7f-mgUa0W",
        "outputId": "7c966aba-7fd5-4efe-809b-74e1b30c866f"
      },
      "execution_count": null,
      "outputs": [
        {
          "output_type": "stream",
          "name": "stdout",
          "text": [
            "Hypertension Prediction Score:  0.85597339473011\n"
          ]
        }
      ]
    }
  ]
}